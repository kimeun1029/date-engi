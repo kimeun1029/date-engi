{
 "cells": [
  {
   "cell_type": "code",
   "execution_count": null,
   "id": "77798d0b-feb7-450d-ab00-8457b525bc84",
   "metadata": {},
   "outputs": [],
   "source": []
  },
  {
   "cell_type": "code",
   "execution_count": 69,
   "id": "e3a2abc3-4d89-4f80-a705-98776ad2d581",
   "metadata": {},
   "outputs": [],
   "source": [
    "subjects = [\"physics\", \"calculus\", \"poetry\", \"history\"]"
   ]
  },
  {
   "cell_type": "code",
   "execution_count": 70,
   "id": "f463aaf8-df33-4cec-aca4-5d2a04d074f1",
   "metadata": {},
   "outputs": [],
   "source": [
    "grades = [\"98\", \"97\", \"85\", \"88\"]"
   ]
  },
  {
   "cell_type": "code",
   "execution_count": 71,
   "id": "03032ead-49f9-405e-8037-79cf15949b06",
   "metadata": {},
   "outputs": [
    {
     "name": "stdout",
     "output_type": "stream",
     "text": [
      "[['physics', 98], ['calculus', 97], ['poetry', 85], ['history', 88]]\n"
     ]
    }
   ],
   "source": [
    "gradebook = [['physics', 98], ['calculus', 97], ['poetry', 85], ['history', 88]]\n",
    "print(gradebook)"
   ]
  },
  {
   "cell_type": "code",
   "execution_count": 72,
   "id": "fafe5046-3bc6-4505-9b3a-a6cc6e3b237b",
   "metadata": {},
   "outputs": [],
   "source": [
    "gradebook.append(['computer science', 100])"
   ]
  },
  {
   "cell_type": "code",
   "execution_count": 73,
   "id": "5dad87f9-d5a3-4b8a-9c4e-f8fb3ca3c3b5",
   "metadata": {},
   "outputs": [
    {
     "name": "stdout",
     "output_type": "stream",
     "text": [
      "[['physics', 98], ['calculus', 97], ['poetry', 85], ['history', 88], ['computer science', 100], ['visual arts', 93]]\n"
     ]
    }
   ],
   "source": [
    "gradebook.append(['visual arts', 93])\n",
    "print(gradebook)"
   ]
  },
  {
   "cell_type": "code",
   "execution_count": 74,
   "id": "ead2f34d-2131-4f74-a4e6-ab95305a1e11",
   "metadata": {},
   "outputs": [
    {
     "name": "stdout",
     "output_type": "stream",
     "text": [
      "[['physics', 98], ['calculus', 97], ['poetry', 85], ['history', 88], ['computer science', 100], ['visual arts', 97]]\n"
     ]
    }
   ],
   "source": [
    "gradebook[5][1] = 97\n",
    "print(gradebook)"
   ]
  },
  {
   "cell_type": "code",
   "execution_count": 75,
   "id": "50b37fd2-9c92-4968-bb58-ff17dc9ef665",
   "metadata": {},
   "outputs": [
    {
     "name": "stdout",
     "output_type": "stream",
     "text": [
      "[['physics', 98], ['calculus', 97], ['history', 88], ['computer science', 100], ['visual arts', 97], ['poetry', 'Pass']]\n"
     ]
    }
   ],
   "source": [
    "gradebook.remove(['poetry', 85])\n",
    "gradebook.append(['poetry', 'Pass'])\n",
    "print(gradebook)"
   ]
  },
  {
   "cell_type": "code",
   "execution_count": 76,
   "id": "0e385495-4fa6-49d5-8deb-a221b6a5f862",
   "metadata": {},
   "outputs": [
    {
     "name": "stdout",
     "output_type": "stream",
     "text": [
      "[['politics', 80], ['latin', 96], ['dance', 97], ['architecture', 65]]\n"
     ]
    }
   ],
   "source": [
    "last_semester_gradebook = [[\"politics\", 80], [\"latin\", 96], [\"dance\", 97], [\"architecture\", 65]]\n",
    "print(last_semester_gradebook)"
   ]
  },
  {
   "cell_type": "code",
   "execution_count": 77,
   "id": "4e45e381-1e3e-4ef6-a624-ab229b38b98e",
   "metadata": {},
   "outputs": [
    {
     "name": "stdout",
     "output_type": "stream",
     "text": [
      "[['politics', 80], ['latin', 96], ['dance', 97], ['architecture', 65], ['physics', 98], ['calculus', 97], ['history', 88], ['computer science', 100], ['visual arts', 97], ['poetry', 'Pass']]\n"
     ]
    }
   ],
   "source": [
    "full_gradebook = last_semester_gradebook + gradebook \n",
    "print(full_gradebook)"
   ]
  },
  {
   "cell_type": "code",
   "execution_count": null,
   "id": "e78ae91f-40a9-4392-b5da-547cf99d2efa",
   "metadata": {},
   "outputs": [],
   "source": []
  },
  {
   "cell_type": "code",
   "execution_count": null,
   "id": "3e751da3-6259-4d87-8dad-d48100944ad3",
   "metadata": {},
   "outputs": [],
   "source": []
  }
 ],
 "metadata": {
  "kernelspec": {
   "display_name": "Python 3 (ipykernel)",
   "language": "python",
   "name": "python3"
  },
  "language_info": {
   "codemirror_mode": {
    "name": "ipython",
    "version": 3
   },
   "file_extension": ".py",
   "mimetype": "text/x-python",
   "name": "python",
   "nbconvert_exporter": "python",
   "pygments_lexer": "ipython3",
   "version": "3.10.9"
  }
 },
 "nbformat": 4,
 "nbformat_minor": 5
}
