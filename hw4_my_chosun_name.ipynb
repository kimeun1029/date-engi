{
 "cells": [
  {
   "cell_type": "code",
   "execution_count": null,
   "id": "99606fbb-1c8a-444f-a7b8-b08bdc113f9d",
   "metadata": {},
   "outputs": [],
   "source": []
  },
  {
   "cell_type": "code",
   "execution_count": 10,
   "id": "9442df55-1541-4313-b921-1ffd8c48fb74",
   "metadata": {},
   "outputs": [
    {
     "name": "stdout",
     "output_type": "stream",
     "text": [
      "['쌍', '쇠', '복', '돌', '팽', '육', '쌍', '개', '칠', '갑', '삼', '방']\n"
     ]
    }
   ],
   "source": [
    "month = ['쌍', '쇠', '복', '돌', '팽', '육', '쌍', '개' ,'칠' ,'갑' ,'삼', '방']\n",
    "print (month)"
   ]
  },
  {
   "cell_type": "code",
   "execution_count": 11,
   "id": "e0081935-6883-4eea-9ab6-0dccd50ba16e",
   "metadata": {},
   "outputs": [
    {
     "name": "stdout",
     "output_type": "stream",
     "text": [
      "[['봉', '구', '욕', '포', '똥', '삼', '식', '석', '놈', '님', '년', '돌', '단', '득', '방', '질', '장', '걸', '래', '룡', '동', '순', '자', '박', '창', '언', '것', '포', '만', '단', '국']]\n"
     ]
    }
   ],
   "source": [
    "day = [['봉', '구', '욕', '포', '똥', '삼', '식', '석', '놈', '님', '년', '돌', '단', '득', '방', '질', '장', \n",
    "        '걸', '래', '룡', '동', '순', '자', '박', '창', '언', '것', '포', '만', '단', '국']]\n",
    "print (day)"
   ]
  },
  {
   "cell_type": "code",
   "execution_count": 33,
   "id": "0b6f29a0-f050-41f0-aaca-be76a4535159",
   "metadata": {},
   "outputs": [
    {
     "name": "stdout",
     "output_type": "stream",
     "text": [
      "당신의 조선시대 이름은 안칠걸 입니다.\n"
     ]
    }
   ],
   "source": [
    "def get_my_chosun_name(family_name, month_number, day_number):\n",
    "    month = ['쌍', '쇠', '복', '돌', '팽', '육', '쌍', '개' ,'칠' ,'갑' ,'삼', '방']\n",
    "    day = ['봉', '구', '욕', '포', '똥', '삼', '식', '석', '놈', '님', '년', '돌', '단', '득', '방', '질', '장', \n",
    "        '걸', '래', '룡', '동', '순', '자', '박', '창', '언', '것', '포', '만', '단', '국']\n",
    "    \n",
    "  \n",
    "    \n",
    "    full_name = family_name + month[month_number - 1] + day[day_number - 1]\n",
    "    \n",
    "    return full_name\n",
    "\n",
    "    \n",
    "result_name = get_my_chosun_name('안', 9, 18)\n",
    "print(f\"당신의 조선시대 이름은 {result_name} 입니다.\")"
   ]
  },
  {
   "cell_type": "code",
   "execution_count": null,
   "id": "6fc1fa5b-6887-47a0-bf75-fa2fcc9934f3",
   "metadata": {},
   "outputs": [],
   "source": []
  },
  {
   "cell_type": "code",
   "execution_count": null,
   "id": "2e998d48-c75c-4880-94c5-e1a57b4a5806",
   "metadata": {},
   "outputs": [],
   "source": []
  }
 ],
 "metadata": {
  "kernelspec": {
   "display_name": "Python 3 (ipykernel)",
   "language": "python",
   "name": "python3"
  },
  "language_info": {
   "codemirror_mode": {
    "name": "ipython",
    "version": 3
   },
   "file_extension": ".py",
   "mimetype": "text/x-python",
   "name": "python",
   "nbconvert_exporter": "python",
   "pygments_lexer": "ipython3",
   "version": "3.10.9"
  }
 },
 "nbformat": 4,
 "nbformat_minor": 5
}
